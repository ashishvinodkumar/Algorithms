{
 "cells": [
  {
   "cell_type": "markdown",
   "metadata": {},
   "source": [
    "# Selection Sort"
   ]
  },
  {
   "cell_type": "markdown",
   "metadata": {},
   "source": [
    "The notebook provides static method for sorting an array using <em>selection sort</em>."
   ]
  },
  {
   "cell_type": "markdown",
   "metadata": {},
   "source": [
    "### Big(O)\n",
    "\n",
    "This implementation makes ~ &frac12; <em>n</em><sup>2</sup> compares to sort\n",
    "any array of length <em>n</em>, so it is not suitable for sorting large arrays.\n",
    "It performs exactly <em>n</em> exchanges."
   ]
  },
  {
   "cell_type": "markdown",
   "metadata": {},
   "source": [
    "### Implementation"
   ]
  },
  {
   "cell_type": "code",
   "execution_count": 30,
   "metadata": {},
   "outputs": [],
   "source": [
    "def selection_sort(a: list) -> list:\n",
    "    for i in range(0, len(a)):\n",
    "        min_ind = i\n",
    "        for j in range(i+1, len(a)):\n",
    "            if a[j] < a[min_ind]:\n",
    "                min_ind = j\n",
    "                \n",
    "        a[i], a[min_ind] = a[min_ind], a[i]\n",
    "    return a"
   ]
  },
  {
   "cell_type": "code",
   "execution_count": 31,
   "metadata": {},
   "outputs": [
    {
     "data": {
      "text/plain": [
       "[-91, -81, -52, 34, 38, 53, 77, 84, 84, 86]"
      ]
     },
     "execution_count": 31,
     "metadata": {},
     "output_type": "execute_result"
    }
   ],
   "source": [
    "a = [-81, 53, 38, -52, 77, -91, 84, 84, 86, 34]\n",
    "selection_sort(a)"
   ]
  },
  {
   "cell_type": "code",
   "execution_count": null,
   "metadata": {},
   "outputs": [],
   "source": []
  }
 ],
 "metadata": {
  "kernelspec": {
   "display_name": "Python 3",
   "language": "python",
   "name": "python3"
  },
  "language_info": {
   "codemirror_mode": {
    "name": "ipython",
    "version": 3
   },
   "file_extension": ".py",
   "mimetype": "text/x-python",
   "name": "python",
   "nbconvert_exporter": "python",
   "pygments_lexer": "ipython3",
   "version": "3.8.5"
  }
 },
 "nbformat": 4,
 "nbformat_minor": 4
}
