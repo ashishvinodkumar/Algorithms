{
 "cells": [
  {
   "cell_type": "markdown",
   "metadata": {},
   "source": [
    "# Merge Sort"
   ]
  },
  {
   "cell_type": "markdown",
   "metadata": {},
   "source": [
    "The notebook provides static methods for sorting an array using a top-down, recursive version of <em>mergesort</em>.    "
   ]
  },
  {
   "cell_type": "markdown",
   "metadata": {},
   "source": [
    "### Big(O)"
   ]
  },
  {
   "cell_type": "markdown",
   "metadata": {},
   "source": [
    "This implementation takes &Theta;(<em>n</em> log <em>n</em>) time to sort any array of length <em>n</em> (assuming comparisons take constant time). It makes between ~ &frac12; <em>n</em> log<sub>2</sub> <em>n</em> and ~ 1 <em>n</em> log<sub>2</sub> <em>n</em> compares.\n",
    "<p>\n",
    "This sorting algorithm is stable. It uses &Theta;(<em>n</em>) extra memory (not including the input array).\n",
    "<p>"
   ]
  },
  {
   "cell_type": "markdown",
   "metadata": {},
   "source": [
    "### Implementation"
   ]
  },
  {
   "cell_type": "code",
   "execution_count": 1,
   "metadata": {},
   "outputs": [],
   "source": [
    "def my_merge(a: list, aux: list, lo: int, mid: int, hi: int):\n",
    "    for i in range(lo, hi+1):\n",
    "        aux[i] = a[i]\n",
    "        \n",
    "    i = lo\n",
    "    j = mid+1\n",
    "    \n",
    "    for k in range(lo, hi+1):\n",
    "        if i > mid:\n",
    "            a[k] = aux[j]\n",
    "            j = j + 1\n",
    "        elif j > hi:\n",
    "            a[k] = aux[i]\n",
    "            i = i + 1\n",
    "        elif aux[i] <= aux[j]:\n",
    "            a[k] = aux[i]\n",
    "            i = i + 1\n",
    "        else:\n",
    "            a[k] = aux[j]\n",
    "            j = j + 1\n",
    "        \n",
    "\n",
    "def my_sort(a: list, aux: list, lo: int, hi: int):\n",
    "    if lo < hi:\n",
    "        mid = lo + int((hi-lo)//2)\n",
    "        my_sort(a, aux, lo, mid)\n",
    "        my_sort(a, aux, mid+1, hi)\n",
    "        my_merge(a, aux, lo, mid, hi)\n",
    "    \n",
    "\n",
    "def merge_sort(a: list):\n",
    "    aux = [0]*len(a)\n",
    "    lo = 0\n",
    "    hi = len(a)-1\n",
    "    my_sort(a, aux, lo, hi)"
   ]
  },
  {
   "cell_type": "code",
   "execution_count": 2,
   "metadata": {},
   "outputs": [],
   "source": [
    "a = [-81, 53, 38, -52, 77, -91, 84, 84, 86, 34]\n",
    "a = [26, -68, -66, -29, -89, -67, -8, 64, 71, 19]\n",
    "merge_sort(a)"
   ]
  },
  {
   "cell_type": "code",
   "execution_count": 3,
   "metadata": {},
   "outputs": [
    {
     "data": {
      "text/plain": [
       "[-89, -68, -67, -66, -29, -8, 19, 26, 64, 71]"
      ]
     },
     "execution_count": 3,
     "metadata": {},
     "output_type": "execute_result"
    }
   ],
   "source": [
    "a"
   ]
  },
  {
   "cell_type": "code",
   "execution_count": null,
   "metadata": {},
   "outputs": [],
   "source": []
  }
 ],
 "metadata": {
  "kernelspec": {
   "display_name": "Python 3",
   "language": "python",
   "name": "python3"
  },
  "language_info": {
   "codemirror_mode": {
    "name": "ipython",
    "version": 3
   },
   "file_extension": ".py",
   "mimetype": "text/x-python",
   "name": "python",
   "nbconvert_exporter": "python",
   "pygments_lexer": "ipython3",
   "version": "3.8.5"
  }
 },
 "nbformat": 4,
 "nbformat_minor": 4
}
