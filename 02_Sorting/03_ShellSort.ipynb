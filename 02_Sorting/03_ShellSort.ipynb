{
 "cells": [
  {
   "cell_type": "markdown",
   "metadata": {},
   "source": [
    "# Shell Sort"
   ]
  },
  {
   "cell_type": "markdown",
   "metadata": {},
   "source": [
    "This notebook provides static methods for sorting an\n",
    "array using <em>Shellsort</em>. "
   ]
  },
  {
   "cell_type": "markdown",
   "metadata": {},
   "source": [
    "### Big(O)"
   ]
  },
  {
   "cell_type": "markdown",
   "metadata": {},
   "source": [
    "In the worst case, this implementation makes &Theta;(<em>n</em><sup>3/2</sup>) compares and exchanges to sort an array of length <em>n</em>. <p> This sorting algorithm is not stable. It uses &Theta;(1) extra memory (not including the input array)."
   ]
  },
  {
   "cell_type": "markdown",
   "metadata": {},
   "source": [
    "### Implementation"
   ]
  },
  {
   "cell_type": "code",
   "execution_count": 29,
   "metadata": {},
   "outputs": [],
   "source": [
    "def modded_insertion_sort(a: list, gap: int) -> list:\n",
    "    for i in range(1, len(a)):\n",
    "        j = i - gap\n",
    "        \n",
    "        while a[j+gap] < a[j] and j>=0:\n",
    "            a[j], a[j+gap] = a[j+gap], a[j]\n",
    "            j = j - gap\n",
    "    return a\n",
    "            \n",
    "    return a\n",
    "        \n",
    "    \n",
    "def shellSort(a: list) -> list:\n",
    "    n = len(a)\n",
    "    gap = int(n//2)\n",
    "    \n",
    "    while(gap > 0):\n",
    "        a = modded_insertion_sort(a, gap)\n",
    "        gap = int(gap//2)\n",
    "        #print('Gap is: ', gap, '.   List is: ', a)\n",
    "    return a"
   ]
  },
  {
   "cell_type": "code",
   "execution_count": 30,
   "metadata": {},
   "outputs": [
    {
     "data": {
      "text/plain": [
       "[-91, -81, -52, 34, 38, 53, 77, 84, 84, 86]"
      ]
     },
     "execution_count": 30,
     "metadata": {},
     "output_type": "execute_result"
    }
   ],
   "source": [
    "a = [-81, 53, 38, -52, 77, -91, 84, 84, 86, 34]\n",
    "shellSort(a)"
   ]
  },
  {
   "cell_type": "code",
   "execution_count": null,
   "metadata": {},
   "outputs": [],
   "source": []
  }
 ],
 "metadata": {
  "kernelspec": {
   "display_name": "Python 3",
   "language": "python",
   "name": "python3"
  },
  "language_info": {
   "codemirror_mode": {
    "name": "ipython",
    "version": 3
   },
   "file_extension": ".py",
   "mimetype": "text/x-python",
   "name": "python",
   "nbconvert_exporter": "python",
   "pygments_lexer": "ipython3",
   "version": "3.8.5"
  }
 },
 "nbformat": 4,
 "nbformat_minor": 4
}
