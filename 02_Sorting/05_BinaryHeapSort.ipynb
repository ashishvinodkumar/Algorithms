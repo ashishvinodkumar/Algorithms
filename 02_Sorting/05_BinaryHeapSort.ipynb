{
 "cells": [
  {
   "cell_type": "markdown",
   "metadata": {},
   "source": [
    "# Binary Heap & Binary Heap Sort"
   ]
  },
  {
   "cell_type": "markdown",
   "metadata": {},
   "source": [
    "This notebook provides a static method to sort an array\n",
    "using <em>heapsort</em>."
   ]
  },
  {
   "cell_type": "markdown",
   "metadata": {},
   "source": [
    "### Big(O)"
   ]
  },
  {
   "cell_type": "markdown",
   "metadata": {},
   "source": [
    "- This implementation takes &Theta;(<em>n</em> log <em>n</em>) time to sort any array of length <em>n</em> (assuming comparisons take constant time). It makes at most 2 <em>n</em> log<sub>2</sub> <em>n</em> compares.\n",
    "\n",
    "- This sorting algorithm is not stable. It uses &Theta;(1) extra memory (not including the input array)."
   ]
  },
  {
   "cell_type": "markdown",
   "metadata": {},
   "source": [
    "### Implementation"
   ]
  },
  {
   "cell_type": "code",
   "execution_count": 1,
   "metadata": {},
   "outputs": [],
   "source": [
    "from binarytree import build"
   ]
  },
  {
   "cell_type": "code",
   "execution_count": 2,
   "metadata": {},
   "outputs": [],
   "source": [
    "class BinaryHeapSort:\n",
    "    \n",
    "    def __init__(self):\n",
    "        self.nodes = []\n",
    "        self.nodes.append(0)\n",
    "        self.ind = 0\n",
    "        \n",
    "    def print_tree(self):\n",
    "        print(self.nodes[1:])\n",
    "        self.binary_tree = build(self.nodes[1:])\n",
    "        print(self.binary_tree)\n",
    "        \n",
    "    def swim(self, k):\n",
    "        while(self.nodes[int(k//2)] < self.nodes[k] and k>1):\n",
    "            self.nodes[k], self.nodes[k//2] = self.nodes[int(k//2)], self.nodes[k]\n",
    "            k = int(k//2)\n",
    "\n",
    "    def sink(self, k):\n",
    "        while(2*k <= self.ind):\n",
    "            j = 2*k\n",
    "            if j < self.ind and self.nodes[j] < self.nodes[j+1]:\n",
    "                j = j + 1\n",
    "                \n",
    "            if not self.nodes[k] < self.nodes[j]:\n",
    "                break\n",
    "            \n",
    "            self.nodes[k], self.nodes[j] = self.nodes[j], self.nodes[k]\n",
    "            k = j\n",
    "        \n",
    "    def add(self, value):\n",
    "        self.nodes.append(value)\n",
    "        self.ind = self.ind + 1\n",
    "        self.swim(self.ind)\n",
    "        \n",
    "        \n",
    "    def delMax(self):\n",
    "        max_val = self.nodes[1]\n",
    "        self.nodes[1], self.nodes[self.ind] = self.nodes[self.ind], self.nodes[1]\n",
    "        self.sink(1)\n",
    "        self.ind = self.ind - 1\n",
    "        self.nodes.pop(self.ind+1)\n",
    "        \n",
    "        \n",
    "    def sort(self):\n",
    "        k = self.ind\n",
    "        while(k > 1):\n",
    "            self.nodes[k], self.nodes[1] = self.nodes[1], self.nodes[k]\n",
    "            k = k - 1\n",
    "            self.sink(1)\n",
    "        \n",
    "        \n",
    "        "
   ]
  },
  {
   "cell_type": "code",
   "execution_count": 3,
   "metadata": {},
   "outputs": [
    {
     "name": "stdout",
     "output_type": "stream",
     "text": [
      "[71, 64, -8, 26, 19, -67, -66, -68, -29, -89]\n",
      "\n",
      "             ________71____\n",
      "            /              \\\n",
      "      _____64____          _-8_\n",
      "     /           \\        /    \\\n",
      "   _26_          _19    -67    -66\n",
      "  /    \\        /\n",
      "-68    -29    -89\n",
      "\n"
     ]
    }
   ],
   "source": [
    "list_x = [26, -68, -66, -29, -89, -67, -8, 64, 71, 19]\n",
    "bh = BinaryHeapSort()\n",
    "\n",
    "for x in list_x:\n",
    "    bh.add(x)\n",
    "\n",
    "bh.print_tree()"
   ]
  },
  {
   "cell_type": "code",
   "execution_count": 4,
   "metadata": {},
   "outputs": [
    {
     "name": "stdout",
     "output_type": "stream",
     "text": [
      "[64, 26, -8, -29, 19, -67, -66, -68, -89]\n",
      "\n",
      "              ____64____\n",
      "             /          \\\n",
      "       _____26          _-8_\n",
      "      /       \\        /    \\\n",
      "   _-29_       19    -67    -66\n",
      "  /     \\\n",
      "-68     -89\n",
      "\n"
     ]
    }
   ],
   "source": [
    "bh.delMax()\n",
    "bh.print_tree()"
   ]
  },
  {
   "cell_type": "code",
   "execution_count": 6,
   "metadata": {},
   "outputs": [
    {
     "name": "stdout",
     "output_type": "stream",
     "text": [
      "[64, 19, 26, -67, -29, -8, -66, -89, -68]\n",
      "\n",
      "              _____64___\n",
      "             /          \\\n",
      "       _____19_         _26_\n",
      "      /        \\       /    \\\n",
      "   _-67_       -29    -8    -66\n",
      "  /     \\\n",
      "-89     -68\n",
      "\n"
     ]
    }
   ],
   "source": [
    "bh.sort()\n",
    "bh.print_tree()"
   ]
  },
  {
   "cell_type": "code",
   "execution_count": null,
   "metadata": {},
   "outputs": [],
   "source": []
  }
 ],
 "metadata": {
  "kernelspec": {
   "display_name": "Python 3",
   "language": "python",
   "name": "python3"
  },
  "language_info": {
   "codemirror_mode": {
    "name": "ipython",
    "version": 3
   },
   "file_extension": ".py",
   "mimetype": "text/x-python",
   "name": "python",
   "nbconvert_exporter": "python",
   "pygments_lexer": "ipython3",
   "version": "3.8.5"
  }
 },
 "nbformat": 4,
 "nbformat_minor": 4
}
