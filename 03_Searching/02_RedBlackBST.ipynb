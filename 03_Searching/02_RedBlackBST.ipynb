{
 "cells": [
  {
   "cell_type": "markdown",
   "metadata": {},
   "source": [
    "# Red-Black BST"
   ]
  },
  {
   "cell_type": "markdown",
   "metadata": {},
   "source": [
    "- This notebook represents an ordered symbol table of generic key-value pairs. It supports the usual <em>put</em>, <em>get</em>, <em>contains</em>, <em>delete</em>, <em>size</em>, and <em>is-empty</em> methods.\n",
    "\n",
    "- This implementation uses a <em>left-leaning red-black BST</em>. "
   ]
  },
  {
   "cell_type": "markdown",
   "metadata": {},
   "source": [
    "### Big(O)"
   ]
  },
  {
   "cell_type": "markdown",
   "metadata": {},
   "source": [
    "- The <em>put</em>, <em>get</em>, <em>contains</em>, <em>remove</em>, <em>minimum</em>, <em>maximum</em>, <em>ceiling</em>, <em>floor</em>, <em>rank</em>, and <em>select</em> operations each take &Theta;(log <em>n</em>) time in the worst case, where <em>n</em> is the number of key-value pairs in the symbol table.\n",
    "\n",
    "- The <em>size</em>, and <em>is-empty</em> operations take &Theta;(1) time.\n",
    "\n",
    "- The <em>keys</em> methods take <em>O</em>(log <em>n</em> + <em>m</em>) time, where <em>m</em> is the number of keys returned by the iterator. \n",
    "\n",
    "- Construction takes &Theta;(1) time."
   ]
  },
  {
   "cell_type": "markdown",
   "metadata": {},
   "source": [
    "### Implementation"
   ]
  },
  {
   "cell_type": "code",
   "execution_count": 1,
   "metadata": {},
   "outputs": [],
   "source": [
    "class Node:\n",
    "    def __init__(self, key: int, value: str, size: int, color: str):\n",
    "        self.key = key\n",
    "        self.value = value\n",
    "        self.size = size\n",
    "        self.left = None\n",
    "        self.right = None\n",
    "        self.color = color\n",
    "        \n",
    "    def __repr__(self):\n",
    "        lines = []\n",
    "        if self.right:\n",
    "            found = False\n",
    "            for line in repr(self.right).split(\"\\n\"):\n",
    "                if line[0] != \" \":\n",
    "                    found = True\n",
    "                    line = \" ┌─\" + str(\"'\"+line+\"'\")\n",
    "                elif found:\n",
    "                    line = \" | \" + line\n",
    "                else:\n",
    "                    line = \"   \" + line\n",
    "                lines.append(line)\n",
    "        lines.append(str(self.value))\n",
    "        if self.left:\n",
    "            found = False\n",
    "            for line in repr(self.left).split(\"\\n\"):\n",
    "                if line[0] != \" \":\n",
    "                    found = True\n",
    "                    line = \" └─\" + str(\"'\"+line+\"'\")\n",
    "                elif found:\n",
    "                    line = \"   \" + line\n",
    "                else:\n",
    "                    line = \" | \" + line\n",
    "                lines.append(line)\n",
    "        return \"\\n\".join(lines)\n",
    "        "
   ]
  },
  {
   "cell_type": "code",
   "execution_count": 2,
   "metadata": {},
   "outputs": [],
   "source": [
    "class RedBlackBST:\n",
    "    def __init__(self):\n",
    "        self.root = None\n",
    "        \n",
    "    def size(self, node_x):\n",
    "        if node_x == None:\n",
    "            return 0\n",
    "        else:\n",
    "            return node_x.size\n",
    "        \n",
    "        \n",
    "    def isEmpty(self):\n",
    "        return self.size(self.root) == 0\n",
    "    \n",
    "        \n",
    "    def isRed(self, node_x):\n",
    "        if node_x == None:\n",
    "            return False\n",
    "        return node_x.color == 'RED'\n",
    "    \n",
    "    def rotate_left(self, node):\n",
    "        x = node.right\n",
    "        node.right = x.left\n",
    "        x.left = node\n",
    "        x.color = node.color\n",
    "        node.color = 'RED'\n",
    "        return x\n",
    "    \n",
    "    def rotate_right(self, node):\n",
    "        x = node.left\n",
    "        node.left = x.right\n",
    "        x.right = node\n",
    "        x.color = node.color\n",
    "        node.color = 'RED'\n",
    "        return x\n",
    "    \n",
    "    def flip_colors(self, node):\n",
    "        node.color = 'RED'\n",
    "        node.left.color = 'BLACK'\n",
    "        node.right.color = 'BLACK'\n",
    "    \n",
    "    def recursive_put(self, node_x, key, value):\n",
    "        #print('Called')\n",
    "        if node_x == None:\n",
    "            #print('Added\\n')\n",
    "            return Node(key, value, 1, 'RED')\n",
    "        \n",
    "        if key < node_x.key:\n",
    "            node_x.left = self.recursive_put(node_x.left, key, value)\n",
    "        elif key > node_x.key:\n",
    "            node_x.right = self.recursive_put(node_x.right, key, value)\n",
    "        else:\n",
    "            node_x.value = value\n",
    "            \n",
    "        if self.isRed(node_x.right) and not self.isRed(node_x.left):\n",
    "            #print('In here1')\n",
    "            node_x = self.rotate_left(node_x)\n",
    "        if self.isRed(node_x.left) and self.isRed(node_x.left.left):\n",
    "            #print('In here2')\n",
    "            node_x = self.rotate_right(node_x)\n",
    "        if self.isRed(node_x.right) and self.isRed(node_x.left):\n",
    "            #print('In here3')\n",
    "            self.flip_colors(node_x)\n",
    "            \n",
    "        node_x.size = 1 + self.size(node_x.left) + self.size(node_x.right)\n",
    "        return node_x\n",
    "    \n",
    "    def put(self, key, value):\n",
    "        self.root = self.recursive_put(self.root, key, value)\n",
    "        self.root.color = 'BLACK'\n",
    "        \n",
    "        \n",
    "    def contains(self, key):\n",
    "        return self.get(key) != None\n",
    "    \n",
    "    \n",
    "    def get(self, key):\n",
    "        x = self.root\n",
    "        while(x != None):\n",
    "            if key < x.key:\n",
    "                x = x.left\n",
    "            elif key > x.key:\n",
    "                x = x.right\n",
    "            else:\n",
    "                return x.value\n",
    "        \n",
    "        return None\n",
    "    \n",
    "    \n",
    "    def inorder_traversal(self, node_x, list_keys):\n",
    "        if node_x == None:\n",
    "            return\n",
    "        self.inorder_traversal(node_x.left, list_keys)\n",
    "        custom_str = 'key:' + str(node_x.key) + '  size:' + str(node_x.size)\n",
    "        list_keys.append(custom_str)\n",
    "        self.inorder_traversal(node_x.right, list_keys)\n",
    "        \n",
    "        \n",
    "        \n",
    "    def level_order_traversal(self, queue, results):\n",
    "        while(len(queue) > 0):\n",
    "            results.append(queue[0].key)\n",
    "            \n",
    "            node = queue[0]\n",
    "            queue.pop(0)\n",
    "            \n",
    "            \n",
    "            if node.left is not None:\n",
    "                queue.append(node.left)\n",
    "            \n",
    "            if node.right is not None:\n",
    "                queue.append(node.right)\n",
    "        return results\n",
    "    \n",
    "    \n",
    "    def print_tree(self):\n",
    "        if self.root == None:\n",
    "            return \"Empty Tree\\n\\n\"\n",
    "        \n",
    "        return repr(self.root)\n",
    "    \n",
    "    \n",
    "    \n",
    "    def print_bfs(self):\n",
    "        results = []\n",
    "        queue = []\n",
    "        queue.append(self.root)\n",
    "        results = self.level_order_traversal(queue, results)\n",
    "        return str(results)\n",
    "    \n",
    "    \n",
    "    \n",
    "    def print_dfs(self):\n",
    "        list_keys = []\n",
    "        self.inorder_traversal(self.root, list_keys)\n",
    "        return \"\\n\".join(list_keys)\n",
    "\n",
    "    \n",
    "    def rank(self, key):\n",
    "        return self.recursive_rank(key, self.root)\n",
    "    \n",
    "    def recursive_rank(self, key, node_x):\n",
    "        if node_x == None:\n",
    "            return 0\n",
    "        \n",
    "        if key < node_x.key:\n",
    "            return self.recursive_rank(key, node_x.left)\n",
    "        elif key > node_x.key:\n",
    "            return 1 + self.size(node_x.left) + self.recursive_rank(key, node_x.right)\n",
    "        else:\n",
    "            return self.size(node_x.left)\n",
    "        \n",
    "    \n",
    "    \n",
    "    def range_count(self, lo_key, hi_key):\n",
    "        if self.contains(hi_key):\n",
    "            return self.rank(hi_key) - self.rank(lo_key) + 1\n",
    "        else:\n",
    "            return self.rank(hi_key) - self.rank(lo_key)\n",
    "    \n",
    "        \n",
    "        "
   ]
  },
  {
   "cell_type": "code",
   "execution_count": 3,
   "metadata": {},
   "outputs": [],
   "source": [
    "list_x = [26, -68, -66, -29, -89, -67, -8, 64, 71, 19]\n",
    "rbBST = RedBlackBST()"
   ]
  },
  {
   "cell_type": "code",
   "execution_count": 4,
   "metadata": {},
   "outputs": [],
   "source": [
    "for x in list_x:\n",
    "    rbBST.put(x, str(x))"
   ]
  },
  {
   "cell_type": "code",
   "execution_count": 5,
   "metadata": {},
   "outputs": [
    {
     "name": "stdout",
     "output_type": "stream",
     "text": [
      "key:-89  size:1\n",
      "key:-68  size:3\n",
      "key:-67  size:1\n",
      "key:-66  size:10\n",
      "key:-29  size:1\n",
      "key:-8  size:4\n",
      "key:19  size:1\n",
      "key:26  size:2\n",
      "key:64  size:6\n",
      "key:71  size:1\n"
     ]
    }
   ],
   "source": [
    "print(rbBST.print_dfs())"
   ]
  },
  {
   "cell_type": "code",
   "execution_count": 6,
   "metadata": {},
   "outputs": [
    {
     "name": "stdout",
     "output_type": "stream",
     "text": [
      "    ┌─'71'\n",
      " ┌─'64'\n",
      " |  |  ┌─'26'\n",
      " |  |  |  └─'19'\n",
      " |  └─'-8'\n",
      " |     └─'-29'\n",
      "-66\n",
      " |  ┌─'-67'\n",
      " └─'-68'\n",
      "    └─'-89'\n"
     ]
    }
   ],
   "source": [
    "print(rbBST.print_tree())"
   ]
  },
  {
   "cell_type": "code",
   "execution_count": 7,
   "metadata": {},
   "outputs": [
    {
     "data": {
      "text/plain": [
       "'[-66, -68, 64, -89, -67, -8, 71, -29, 26, 19]'"
      ]
     },
     "execution_count": 7,
     "metadata": {},
     "output_type": "execute_result"
    }
   ],
   "source": [
    "rbBST.print_bfs()"
   ]
  },
  {
   "cell_type": "code",
   "execution_count": null,
   "metadata": {},
   "outputs": [],
   "source": []
  }
 ],
 "metadata": {
  "kernelspec": {
   "display_name": "Python 3",
   "language": "python",
   "name": "python3"
  },
  "language_info": {
   "codemirror_mode": {
    "name": "ipython",
    "version": 3
   },
   "file_extension": ".py",
   "mimetype": "text/x-python",
   "name": "python",
   "nbconvert_exporter": "python",
   "pygments_lexer": "ipython3",
   "version": "3.8.5"
  }
 },
 "nbformat": 4,
 "nbformat_minor": 4
}
