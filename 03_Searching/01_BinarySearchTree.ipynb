{
 "cells": [
  {
   "cell_type": "markdown",
   "metadata": {},
   "source": [
    "# Binary Search Tree"
   ]
  },
  {
   "cell_type": "markdown",
   "metadata": {},
   "source": [
    "- This implementation uses an (unbalanced) <em>binary search tree</em>. "
   ]
  },
  {
   "cell_type": "markdown",
   "metadata": {},
   "source": [
    "### Big(O)"
   ]
  },
  {
   "cell_type": "markdown",
   "metadata": {},
   "source": [
    "- The <em>put</em>, <em>contains</em>, <em>remove</em>, <em>minimum</em>, <em>maximum</em>, <em>ceiling</em>, <em>floor</em>, <em>select</em>, and <em>rank</em>  operations each take &Theta;(<em>n</em>) time in the worst case, where <em>n</em> is the number of key-value pairs. \n",
    "\n",
    "- The <em>size</em> and <em>is-empty</em> operations take &Theta;(1) time. The keys method takes &Theta;(<em>n</em>) time in the worst case. Construction takes &Theta;(1) time."
   ]
  },
  {
   "cell_type": "markdown",
   "metadata": {},
   "source": [
    "### Implementation"
   ]
  },
  {
   "cell_type": "code",
   "execution_count": 1,
   "metadata": {},
   "outputs": [],
   "source": [
    "class Node:\n",
    "    def __init__(self, key, value, size):\n",
    "        self.key = key\n",
    "        self.value = value\n",
    "        self.size = size\n",
    "        self.left = None\n",
    "        self.right = None\n",
    "        \n",
    "    def __repr__(self):\n",
    "        lines = []\n",
    "        if self.right:\n",
    "            found = False\n",
    "            for line in repr(self.right).split(\"\\n\"):\n",
    "                if line[0] != \" \":\n",
    "                    found = True\n",
    "                    line = \" ┌─\" + str(\"'\"+line+\"'\")\n",
    "                elif found:\n",
    "                    line = \" | \" + line\n",
    "                else:\n",
    "                    line = \"   \" + line\n",
    "                lines.append(line)\n",
    "        lines.append(str(self.value))\n",
    "        if self.left:\n",
    "            found = False\n",
    "            for line in repr(self.left).split(\"\\n\"):\n",
    "                if line[0] != \" \":\n",
    "                    found = True\n",
    "                    line = \" └─\" + str(\"'\"+line+\"'\")\n",
    "                elif found:\n",
    "                    line = \"   \" + line\n",
    "                else:\n",
    "                    line = \" | \" + line\n",
    "                lines.append(line)\n",
    "        return \"\\n\".join(lines)\n",
    "    "
   ]
  },
  {
   "cell_type": "code",
   "execution_count": 2,
   "metadata": {},
   "outputs": [],
   "source": [
    "class BinarySearchTree:\n",
    "    def __init__(self):\n",
    "        self.root = None\n",
    "        \n",
    "    def size(self, node_x):\n",
    "        if node_x == None:\n",
    "            return 0\n",
    "        else:\n",
    "            return node_x.size\n",
    "        \n",
    "        \n",
    "        \n",
    "    def isEmpty(self):\n",
    "        return self.size(self.root) == 0\n",
    "        \n",
    "        \n",
    "        \n",
    "    def put(self, key, value):\n",
    "        self.root = self.recursive_put(self.root, key, value)\n",
    "        \n",
    "        \n",
    "        \n",
    "    def recursive_put(self, node_x, key, value):\n",
    "        if node_x == None:\n",
    "            return Node(key, value, 1)\n",
    "\n",
    "        if key < node_x.key:\n",
    "            node_x.left = self.recursive_put(node_x.left, key, value)\n",
    "        elif key > node_x.key:\n",
    "            node_x.right = self.recursive_put(node_x.right, key, value)\n",
    "        else:\n",
    "            node_x.value = value\n",
    "            \n",
    "        node_x.size = 1 + self.size(node_x.left) + self.size(node_x.right)\n",
    "        return node_x\n",
    "    \n",
    "    \n",
    "    def contains(self, key):\n",
    "        return self.get(key) != None\n",
    "    \n",
    "    \n",
    "    def get(self, key):\n",
    "        x = self.root\n",
    "        while(x != None):\n",
    "            if key < x.key:\n",
    "                x = x.left\n",
    "            elif key > x.key:\n",
    "                x = x.right\n",
    "            else:\n",
    "                return x.value\n",
    "        \n",
    "        return None\n",
    "            \n",
    "        \n",
    "            \n",
    "    def inorder_traversal(self, node_x, list_keys):\n",
    "        if node_x == None:\n",
    "            return\n",
    "        self.inorder_traversal(node_x.left, list_keys)\n",
    "        custom_str = 'key:' + str(node_x.key) + '  size:' + str(node_x.size)\n",
    "        list_keys.append(custom_str)\n",
    "        self.inorder_traversal(node_x.right, list_keys)\n",
    "        \n",
    "        \n",
    "        \n",
    "    def level_order_traversal(self, queue, results):\n",
    "        while(len(queue) > 0):\n",
    "            results.append(queue[0].key)\n",
    "            \n",
    "            node = queue[0]\n",
    "            queue.pop(0)\n",
    "            \n",
    "            \n",
    "            if node.left is not None:\n",
    "                queue.append(node.left)\n",
    "            \n",
    "            if node.right is not None:\n",
    "                queue.append(node.right)\n",
    "        return results\n",
    "            \n",
    "        \n",
    "        \n",
    "    def print_tree(self):\n",
    "        if self.root == None:\n",
    "            return \"Empty Tree\\n\\n\"\n",
    "        \n",
    "        return repr(self.root)\n",
    "    \n",
    "    \n",
    "    \n",
    "    def print_bfs(self):\n",
    "        results = []\n",
    "        queue = []\n",
    "        queue.append(self.root)\n",
    "        results = self.level_order_traversal(queue, results)\n",
    "        return str(results)\n",
    "    \n",
    "    \n",
    "    \n",
    "    def print_dfs(self):\n",
    "        list_keys = []\n",
    "        self.inorder_traversal(self.root, list_keys)\n",
    "        return \"\\n\".join(list_keys)\n",
    "    \n",
    "    \n",
    "    def rank(self, key):\n",
    "        return self.recursive_rank(key, self.root)\n",
    "    \n",
    "    def recursive_rank(self, key, node_x):\n",
    "        if node_x == None:\n",
    "            return 0\n",
    "        \n",
    "        if key < node_x.key:\n",
    "            return self.recursive_rank(key, node_x.left)\n",
    "        elif key > node_x.key:\n",
    "            return 1 + self.size(node_x.left) + self.recursive_rank(key, node_x.right)\n",
    "        else:\n",
    "            return self.size(node_x.left)\n",
    "        \n",
    "    \n",
    "    \n",
    "    def range_count(self, lo_key, hi_key):\n",
    "        if self.contains(hi_key):\n",
    "            return self.rank(hi_key) - self.rank(lo_key) + 1\n",
    "        else:\n",
    "            return self.rank(hi_key) - self.rank(lo_key)\n",
    "    "
   ]
  },
  {
   "cell_type": "code",
   "execution_count": 3,
   "metadata": {},
   "outputs": [],
   "source": [
    "list_x = [26, -68, -66, -29, -89, -67, -8, 64, 71, 19]\n",
    "bst = BinarySearchTree()"
   ]
  },
  {
   "cell_type": "code",
   "execution_count": 4,
   "metadata": {},
   "outputs": [],
   "source": [
    "for x in list_x:\n",
    "    bst.put(x, str(x))"
   ]
  },
  {
   "cell_type": "code",
   "execution_count": 5,
   "metadata": {},
   "outputs": [
    {
     "name": "stdout",
     "output_type": "stream",
     "text": [
      "key:-89  size:1\n",
      "key:-68  size:7\n",
      "key:-67  size:1\n",
      "key:-66  size:5\n",
      "key:-29  size:3\n",
      "key:-8  size:2\n",
      "key:19  size:1\n",
      "key:26  size:10\n",
      "key:64  size:2\n",
      "key:71  size:1\n"
     ]
    }
   ],
   "source": [
    "print(bst.print_dfs())"
   ]
  },
  {
   "cell_type": "code",
   "execution_count": 6,
   "metadata": {},
   "outputs": [
    {
     "name": "stdout",
     "output_type": "stream",
     "text": [
      "    ┌─'71'\n",
      " ┌─'64'\n",
      "26\n",
      " |           ┌─'19'\n",
      " |        ┌─'-8'\n",
      " |     ┌─'-29'\n",
      " |  ┌─'-66'\n",
      " |  |  └─'-67'\n",
      " └─'-68'\n",
      "    └─'-89'\n"
     ]
    }
   ],
   "source": [
    "print(bst.print_tree())"
   ]
  },
  {
   "cell_type": "code",
   "execution_count": 7,
   "metadata": {},
   "outputs": [
    {
     "data": {
      "text/plain": [
       "'[26, -68, 64, -89, -66, 71, -67, -29, -8, 19]'"
      ]
     },
     "execution_count": 7,
     "metadata": {},
     "output_type": "execute_result"
    }
   ],
   "source": [
    "bst.print_bfs()"
   ]
  },
  {
   "cell_type": "code",
   "execution_count": null,
   "metadata": {},
   "outputs": [],
   "source": []
  }
 ],
 "metadata": {
  "kernelspec": {
   "display_name": "Python 3",
   "language": "python",
   "name": "python3"
  },
  "language_info": {
   "codemirror_mode": {
    "name": "ipython",
    "version": 3
   },
   "file_extension": ".py",
   "mimetype": "text/x-python",
   "name": "python",
   "nbconvert_exporter": "python",
   "pygments_lexer": "ipython3",
   "version": "3.8.5"
  }
 },
 "nbformat": 4,
 "nbformat_minor": 4
}
