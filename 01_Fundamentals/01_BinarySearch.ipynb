{
 "cells": [
  {
   "cell_type": "markdown",
   "metadata": {},
   "source": [
    "# Binary Search Tree"
   ]
  },
  {
   "cell_type": "markdown",
   "metadata": {},
   "source": [
    "- This notebook provides a function for binary searching for an integer in a sorted array of integers."
   ]
  },
  {
   "cell_type": "markdown",
   "metadata": {},
   "source": [
    "### Big(O):\n",
    "\n",
    "- $log_2(n)$"
   ]
  },
  {
   "cell_type": "markdown",
   "metadata": {},
   "source": [
    "### Implementation"
   ]
  },
  {
   "cell_type": "code",
   "execution_count": 16,
   "metadata": {},
   "outputs": [],
   "source": [
    "def binarySearch(x: list, key: int) -> int:\n",
    "    \"\"\"\n",
    "    Binary searches for key in sorted array of integers\n",
    "    \n",
    "    Parameters:\n",
    "    x (list): Input sorted list of integers.\n",
    "    key (int): Integer value to find in the sorted list.\n",
    "    \n",
    "    Returns:\n",
    "    int: Index of the key, if found in the array. Otherwise, returns -1.\n",
    "    \"\"\"\n",
    "    \n",
    "    assert x == sorted(x), 'The input array has to be sorted to perform binary search'\n",
    "    \n",
    "    lo_index = 0\n",
    "    hi_index = len(x)-1\n",
    "    \n",
    "    while(lo_index <= hi_index):\n",
    "        mid_index = lo_index + int((hi_index - lo_index)/2)\n",
    "        \n",
    "        if key < x[mid_index]:\n",
    "            hi_index = mid_index-1\n",
    "        elif key > x[mid_index]:\n",
    "            lo_index = mid_index+1\n",
    "        else:\n",
    "            return mid_index\n",
    "        \n",
    "    return -1\n",
    "        "
   ]
  },
  {
   "cell_type": "code",
   "execution_count": 22,
   "metadata": {},
   "outputs": [
    {
     "name": "stdout",
     "output_type": "stream",
     "text": [
      "13\n"
     ]
    }
   ],
   "source": [
    "a = [1, 2, 3, 4, 5, 6, 7, 8, 9, 10, 11, 12, 13, 56]\n",
    "print(binarySearch(a, 56))"
   ]
  },
  {
   "cell_type": "code",
   "execution_count": 23,
   "metadata": {},
   "outputs": [
    {
     "name": "stdout",
     "output_type": "stream",
     "text": [
      "Help on function binarySearch in module __main__:\n",
      "\n",
      "binarySearch(x: list, key: int) -> int\n",
      "    Binary searches for key in sorted array of integers\n",
      "    \n",
      "    Parameters:\n",
      "    x (list): Input sorted list of integers.\n",
      "    key (int): Integer value to find in the sorted list.\n",
      "    \n",
      "    Returns:\n",
      "    int: Index of the key, if found in the array. Otherwise, returns -1.\n",
      "\n"
     ]
    }
   ],
   "source": [
    "help(binarySearch)"
   ]
  },
  {
   "cell_type": "code",
   "execution_count": null,
   "metadata": {},
   "outputs": [],
   "source": []
  }
 ],
 "metadata": {
  "kernelspec": {
   "display_name": "Python 3",
   "language": "python",
   "name": "python3"
  },
  "language_info": {
   "codemirror_mode": {
    "name": "ipython",
    "version": 3
   },
   "file_extension": ".py",
   "mimetype": "text/x-python",
   "name": "python",
   "nbconvert_exporter": "python",
   "pygments_lexer": "ipython3",
   "version": "3.8.5"
  }
 },
 "nbformat": 4,
 "nbformat_minor": 4
}
