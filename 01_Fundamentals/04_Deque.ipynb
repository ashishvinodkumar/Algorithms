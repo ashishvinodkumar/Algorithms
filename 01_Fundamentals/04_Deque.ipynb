{
 "cells": [
  {
   "cell_type": "markdown",
   "metadata": {},
   "source": [
    "# Deque (Pronounced 'Deck')."
   ]
  },
  {
   "cell_type": "markdown",
   "metadata": {},
   "source": [
    "- The class represents a last-in-first-out (LIFO) stack of generic items, and represents a first-in-first-out (FIFO) queue of generic items. \n",
    "- It supports the usual <em>push</em> and <em>pop</em> operations, along with methods for peeking at the top item, testing if the stack is empty, and iterating through the items in LIFO (stack) and FIFO (Queue) order."
   ]
  },
  {
   "cell_type": "markdown",
   "metadata": {},
   "source": [
    "### Big(0)"
   ]
  },
  {
   "cell_type": "markdown",
   "metadata": {},
   "source": [
    "- O(1): constant time operations for FIFO and LIFO operations."
   ]
  },
  {
   "cell_type": "markdown",
   "metadata": {},
   "source": [
    "### Implementation"
   ]
  },
  {
   "cell_type": "code",
   "execution_count": 28,
   "metadata": {},
   "outputs": [],
   "source": [
    "class Node:\n",
    "    def __init__(self, value, next_node, prev_node):\n",
    "        self.value = value\n",
    "        self.next = next_node\n",
    "        self.prev = prev_node"
   ]
  },
  {
   "cell_type": "code",
   "execution_count": 110,
   "metadata": {},
   "outputs": [],
   "source": [
    "class Deque:\n",
    "    \n",
    "    def __init__(self):\n",
    "        self.first = None\n",
    "        self.last = None\n",
    "        \n",
    "    def print_nodes(self):\n",
    "        x = self.first\n",
    "        \n",
    "        print('The nodes are: ', end=\" \")\n",
    "        while(x != None):\n",
    "            print(x.value, end=\" \")\n",
    "            x = x.next\n",
    "        print()\n",
    "        \n",
    "    def add_right(self, value):\n",
    "        node = Node(value, next_node=None, prev_node=None)\n",
    "        if self.first == None:\n",
    "            self.first = node\n",
    "            self.last = node\n",
    "        else:\n",
    "            node.prev = self.last\n",
    "            self.last.next = node\n",
    "            self.last = node\n",
    "            \n",
    "        self.print_nodes()\n",
    "            \n",
    "            \n",
    "    def add_left(self, value):\n",
    "        node = Node(value, next_node=None, prev_node=None)\n",
    "        if self.first == None:\n",
    "            self.first = node\n",
    "            self.last = node\n",
    "        else:\n",
    "            self.first.prev = node\n",
    "            node.next = self.first\n",
    "            self.first = node\n",
    "            \n",
    "        self.print_nodes()\n",
    "        \n",
    "    def remove_left(self):\n",
    "        \n",
    "        if self.first == None:\n",
    "            self.print_nodes()\n",
    "            return\n",
    "        else:\n",
    "            node = self.first\n",
    "            self.first = self.first.next\n",
    "            if self.first != None:\n",
    "                self.first.prev = None\n",
    "            node.next = None\n",
    "            \n",
    "            self.print_nodes()\n",
    "        \n",
    "        \n",
    "    def remove_right(self):\n",
    "        if self.first == None or self.last == None:\n",
    "            self.print_nodes()\n",
    "            return\n",
    "        else:\n",
    "            node = self.last\n",
    "            self.last = node.prev\n",
    "            if self.last != None:\n",
    "                self.last.next = None\n",
    "            else:\n",
    "                self.last = None\n",
    "                self.first = None\n",
    "            node.prev = None\n",
    "            \n",
    "            \n",
    "            self.print_nodes()"
   ]
  },
  {
   "cell_type": "code",
   "execution_count": 111,
   "metadata": {},
   "outputs": [
    {
     "name": "stdout",
     "output_type": "stream",
     "text": [
      "The nodes are:  1 \n",
      "The nodes are:  1 5 \n",
      "The nodes are:  1 \n",
      "The nodes are:  \n"
     ]
    }
   ],
   "source": [
    "dq = Deque()\n",
    "dq.add_right(1)\n",
    "dq.add_right(5)\n",
    "dq.remove_right()\n",
    "dq.remove_right()"
   ]
  },
  {
   "cell_type": "code",
   "execution_count": 113,
   "metadata": {},
   "outputs": [
    {
     "name": "stdout",
     "output_type": "stream",
     "text": [
      "The nodes are:  0 195 \n",
      "The nodes are:  4 0 195 \n",
      "The nodes are:  4 0 195 -3 \n",
      "The nodes are:  45 4 0 195 -3 \n",
      "The nodes are:  4 0 195 -3 \n",
      "The nodes are:  0 195 -3 \n",
      "The nodes are:  195 -3 \n",
      "The nodes are:  -3 \n",
      "The nodes are:  \n",
      "The nodes are:  \n",
      "The nodes are:  \n",
      "The nodes are:  \n",
      "The nodes are:  0 \n",
      "The nodes are:  0 4 \n",
      "The nodes are:  0 4 65 \n",
      "The nodes are:  0 4 \n",
      "The nodes are:  0 \n",
      "The nodes are:  \n"
     ]
    }
   ],
   "source": [
    "dq.add_right(195)\n",
    "dq.add_left(4)\n",
    "dq.add_right(-3)\n",
    "dq.add_left(45)\n",
    "dq.remove_left()\n",
    "dq.remove_left()\n",
    "dq.remove_left()\n",
    "dq.remove_left()\n",
    "dq.remove_left()\n",
    "dq.remove_left()\n",
    "dq.remove_left()\n",
    "dq.remove_left()\n",
    "dq.add_right(0)\n",
    "dq.add_right(4)\n",
    "dq.add_right(65)\n",
    "dq.remove_right()\n",
    "dq.remove_right()\n",
    "dq.remove_right()"
   ]
  },
  {
   "cell_type": "code",
   "execution_count": null,
   "metadata": {},
   "outputs": [],
   "source": []
  }
 ],
 "metadata": {
  "kernelspec": {
   "display_name": "Python 3",
   "language": "python",
   "name": "python3"
  },
  "language_info": {
   "codemirror_mode": {
    "name": "ipython",
    "version": 3
   },
   "file_extension": ".py",
   "mimetype": "text/x-python",
   "name": "python",
   "nbconvert_exporter": "python",
   "pygments_lexer": "ipython3",
   "version": "3.8.5"
  }
 },
 "nbformat": 4,
 "nbformat_minor": 4
}
