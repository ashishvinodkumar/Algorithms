{
 "cells": [
  {
   "cell_type": "markdown",
   "metadata": {},
   "source": [
    "# Union Find\n",
    "\n",
    "### Weighted quick-union by count and path compression by halving."
   ]
  },
  {
   "cell_type": "markdown",
   "metadata": {},
   "source": [
    "- This class represents a union–find data type. It supports the classic union and find operations, along with a count operation that returns the total number of sets.\n",
    "\n",
    "- The union–find data type models a collection of sets containing n elements, with each element in exactly one set. The elements are named 0 through n–1.\n",
    "\n",
    "- Initially, there are n sets, with each element in its own set. The canonical element of a set (also known as the root, identifier,leader, or set representative) is one distinguished element in the set. Here is a summary of the operations:\n",
    "\n",
    "> find(p,q): returns the canonical element of the set containing p. The find operation returns the same value for two elements if and only if they are in the same set.\n",
    "\n",
    "> union(p,q): merges the set\n",
    "containing element p with the set containing element q. That is, if p and q are in different sets, replace these two sets with a new set that is the union of the two.\n",
    "\n",
    "> count(): returns the number of sets."
   ]
  },
  {
   "cell_type": "markdown",
   "metadata": {},
   "source": [
    "This implementation uses weighted quick union by rank\n",
    "with path compression by halving.\n",
    "The constructor takes &Theta;(<em>n</em>) time, where <em>n</em> is the number of elements."
   ]
  },
  {
   "cell_type": "markdown",
   "metadata": {},
   "source": [
    "### Big(O) \n",
    "- The <em>union</em> and <em>find</em> operations take &Theta;(log <em>n</em>) time in the worst case.\n",
    "- The <em>unique sets</em> operation takes &Theta;(1) time."
   ]
  },
  {
   "cell_type": "markdown",
   "metadata": {},
   "source": [
    "### Implementation"
   ]
  },
  {
   "cell_type": "code",
   "execution_count": 101,
   "metadata": {},
   "outputs": [],
   "source": [
    "class UnionFind:\n",
    "    \n",
    "    def __init__(self, n: int):\n",
    "        # Create the sandbox of nodes.\n",
    "        self.nodes = [i for i in range(0,n)]\n",
    "        \n",
    "        # Number of unique sets across all the nodes.\n",
    "        self.unique_sets = n\n",
    "        \n",
    "        # How many nodes are there in a given set.\n",
    "        self.count = [1 for i in range(0,n)]\n",
    "        \n",
    "    \n",
    "    def print_nodes(self):\n",
    "        \"\"\"\n",
    "        Helper function designed to print all variables.\n",
    "        \"\"\"\n",
    "        print('Ind: ', end=\" \")\n",
    "        for i in range(0, len(self.nodes)):\n",
    "            print(i, end=\" \")\n",
    "        print()\n",
    "        print('Val: ', end=\" \")\n",
    "        for i in range(0, len(self.nodes)):\n",
    "            print(self.nodes[i], end=\" \")\n",
    "        print()\n",
    "        print('Cnt: ', end=\" \")\n",
    "        for i in range(0, len(self.count)):\n",
    "            print(self.count[i], end=\" \")\n",
    "        print()\n",
    "        print('The number of unique sets is: ', self.unique_sets)\n",
    "\n",
    "        \n",
    "    def root(self,key):\n",
    "        assert key >= 0 and key < len(self.nodes), 'Index/Key has to be between [0, len(n)-1]'\n",
    "        while(key != self.nodes[key]):\n",
    "            self.nodes[key] = self.nodes[self.nodes[key]] #Performs path compression\n",
    "            key = self.nodes[key]\n",
    "\n",
    "        return key\n",
    "            \n",
    "        \n",
    "    def isConnected(self, a, b):\n",
    "        return self.root(a) == self.root(b)\n",
    "    \n",
    "    \n",
    "    def union(self, a, b):\n",
    "        root_a = self.root(a)\n",
    "        root_b = self.root(b)\n",
    "        \n",
    "        if root_a == root_b:\n",
    "            return\n",
    "        \n",
    "        if self.count[root_a] <= self.count[root_b]:\n",
    "            self.nodes[root_a] = root_b\n",
    "            self.count[root_b] = self.count[root_b] + self.count[root_a]\n",
    "        else:\n",
    "            self.nodes[root_b] = root_a\n",
    "            self.count[root_a] = self.count[root_b] + self.count[root_a]\n",
    "            \n",
    "        self.unique_sets = self.unique_sets - 1\n",
    "            \n",
    "            \n",
    "    def find(self, a):\n",
    "        return self.root(a)"
   ]
  },
  {
   "cell_type": "code",
   "execution_count": 102,
   "metadata": {},
   "outputs": [],
   "source": [
    "n = 10\n",
    "uf = UnionFind(n)"
   ]
  },
  {
   "cell_type": "code",
   "execution_count": 103,
   "metadata": {},
   "outputs": [
    {
     "name": "stdout",
     "output_type": "stream",
     "text": [
      "Ind:  0 1 2 3 4 5 6 7 8 9 \n",
      "Val:  0 1 2 3 4 5 6 7 8 9 \n",
      "Cnt:  1 1 1 1 1 1 1 1 1 1 \n",
      "The number of unique sets is:  10\n"
     ]
    }
   ],
   "source": [
    "uf.print_nodes()"
   ]
  },
  {
   "cell_type": "code",
   "execution_count": 104,
   "metadata": {},
   "outputs": [
    {
     "name": "stdout",
     "output_type": "stream",
     "text": [
      "Ind:  0 1 2 3 4 5 6 7 8 9 \n",
      "Val:  0 1 4 3 4 5 6 7 8 9 \n",
      "Cnt:  1 1 1 1 2 1 1 1 1 1 \n",
      "The number of unique sets is:  9\n"
     ]
    }
   ],
   "source": [
    "uf.union(2, 4)\n",
    "uf.print_nodes()"
   ]
  },
  {
   "cell_type": "code",
   "execution_count": 105,
   "metadata": {},
   "outputs": [
    {
     "name": "stdout",
     "output_type": "stream",
     "text": [
      "Ind:  0 1 2 3 4 5 6 7 8 9 \n",
      "Val:  0 1 4 4 4 5 6 7 8 9 \n",
      "Cnt:  1 1 1 1 3 1 1 1 1 1 \n",
      "The number of unique sets is:  8\n"
     ]
    }
   ],
   "source": [
    "uf.union(3, 4)\n",
    "uf.print_nodes()"
   ]
  },
  {
   "cell_type": "code",
   "execution_count": 107,
   "metadata": {},
   "outputs": [
    {
     "data": {
      "text/plain": [
       "4"
      ]
     },
     "execution_count": 107,
     "metadata": {},
     "output_type": "execute_result"
    }
   ],
   "source": [
    "uf.find(2)"
   ]
  },
  {
   "cell_type": "code",
   "execution_count": null,
   "metadata": {},
   "outputs": [],
   "source": []
  }
 ],
 "metadata": {
  "kernelspec": {
   "display_name": "Python 3",
   "language": "python",
   "name": "python3"
  },
  "language_info": {
   "codemirror_mode": {
    "name": "ipython",
    "version": 3
   },
   "file_extension": ".py",
   "mimetype": "text/x-python",
   "name": "python",
   "nbconvert_exporter": "python",
   "pygments_lexer": "ipython3",
   "version": "3.8.5"
  }
 },
 "nbformat": 4,
 "nbformat_minor": 4
}
